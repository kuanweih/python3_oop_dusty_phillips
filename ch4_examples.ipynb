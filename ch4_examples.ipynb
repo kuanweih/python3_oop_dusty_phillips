{
 "cells": [
  {
   "cell_type": "code",
   "execution_count": 1,
   "id": "04837904",
   "metadata": {},
   "outputs": [],
   "source": [
    "def no_return():\n",
    "    print(\"I'm about to raise an exception\")\n",
    "    raise Exception(\"This is always raised\")\n",
    "    print(\"This line will never execute\")\n",
    "    return \"I won't be returned\""
   ]
  },
  {
   "cell_type": "code",
   "execution_count": 2,
   "id": "1b3f56d1",
   "metadata": {},
   "outputs": [
    {
     "name": "stdout",
     "output_type": "stream",
     "text": [
      "I'm about to raise an exception\n"
     ]
    },
    {
     "ename": "Exception",
     "evalue": "This is always raised",
     "output_type": "error",
     "traceback": [
      "\u001b[1;31m---------------------------------------------------------------------------\u001b[0m",
      "\u001b[1;31mException\u001b[0m                                 Traceback (most recent call last)",
      "\u001b[1;32m~\\AppData\\Local\\Temp/ipykernel_7328/3887657419.py\u001b[0m in \u001b[0;36m<module>\u001b[1;34m\u001b[0m\n\u001b[1;32m----> 1\u001b[1;33m \u001b[0mno_return\u001b[0m\u001b[1;33m(\u001b[0m\u001b[1;33m)\u001b[0m\u001b[1;33m\u001b[0m\u001b[1;33m\u001b[0m\u001b[0m\n\u001b[0m",
      "\u001b[1;32m~\\AppData\\Local\\Temp/ipykernel_7328/3748498169.py\u001b[0m in \u001b[0;36mno_return\u001b[1;34m()\u001b[0m\n\u001b[0;32m      1\u001b[0m \u001b[1;32mdef\u001b[0m \u001b[0mno_return\u001b[0m\u001b[1;33m(\u001b[0m\u001b[1;33m)\u001b[0m\u001b[1;33m:\u001b[0m\u001b[1;33m\u001b[0m\u001b[1;33m\u001b[0m\u001b[0m\n\u001b[0;32m      2\u001b[0m     \u001b[0mprint\u001b[0m\u001b[1;33m(\u001b[0m\u001b[1;34m\"I'm about to raise an exception\"\u001b[0m\u001b[1;33m)\u001b[0m\u001b[1;33m\u001b[0m\u001b[1;33m\u001b[0m\u001b[0m\n\u001b[1;32m----> 3\u001b[1;33m     \u001b[1;32mraise\u001b[0m \u001b[0mException\u001b[0m\u001b[1;33m(\u001b[0m\u001b[1;34m\"This is always raised\"\u001b[0m\u001b[1;33m)\u001b[0m\u001b[1;33m\u001b[0m\u001b[1;33m\u001b[0m\u001b[0m\n\u001b[0m\u001b[0;32m      4\u001b[0m     \u001b[0mprint\u001b[0m\u001b[1;33m(\u001b[0m\u001b[1;34m\"This line will never execute\"\u001b[0m\u001b[1;33m)\u001b[0m\u001b[1;33m\u001b[0m\u001b[1;33m\u001b[0m\u001b[0m\n\u001b[0;32m      5\u001b[0m     \u001b[1;32mreturn\u001b[0m \u001b[1;34m\"I won't be returned\"\u001b[0m\u001b[1;33m\u001b[0m\u001b[1;33m\u001b[0m\u001b[0m\n",
      "\u001b[1;31mException\u001b[0m: This is always raised"
     ]
    }
   ],
   "source": [
    "no_return()"
   ]
  },
  {
   "cell_type": "code",
   "execution_count": 3,
   "id": "31a67239",
   "metadata": {},
   "outputs": [
    {
     "name": "stdout",
     "output_type": "stream",
     "text": [
      "I'm about to raise an exception\n",
      "I caught an exception\n",
      "executed after the exception\n"
     ]
    }
   ],
   "source": [
    "try:\n",
    "    no_return()\n",
    "except:\n",
    "    print(\"I caught an exception\")\n",
    "    \n",
    "print(\"executed after the exception\")"
   ]
  },
  {
   "cell_type": "code",
   "execution_count": 6,
   "id": "a2b49acf",
   "metadata": {},
   "outputs": [],
   "source": [
    "def exe_finally_else():\n",
    "    import random\n",
    "    \n",
    "    some_exceptions = [ValueError, TypeError, IndexError, None]\n",
    "\n",
    "    try:\n",
    "        choice = random.choice(some_exceptions)\n",
    "        print(f\"raising {choice}\")\n",
    "        if choice:\n",
    "            raise choice(\"An error\")\n",
    "    except ValueError:\n",
    "        print(\"Caught an ValuesError\")\n",
    "    except TypeError:\n",
    "        print(\"Caught an TypeError\")\n",
    "    except Exception as e:\n",
    "        print(f\"Caught some other error: {e.__class__.__name__}\")\n",
    "    else:\n",
    "        print(\"This code called if there is no exception\")\n",
    "    finally:\n",
    "        print(\"This cleanup code is always called\")"
   ]
  },
  {
   "cell_type": "code",
   "execution_count": 11,
   "id": "05785534",
   "metadata": {},
   "outputs": [
    {
     "name": "stdout",
     "output_type": "stream",
     "text": [
      " \n",
      "raising <class 'TypeError'>\n",
      "Caught an TypeError\n",
      "This cleanup code is always called\n",
      " \n",
      "raising <class 'IndexError'>\n",
      "Caught some other error: IndexError\n",
      "This cleanup code is always called\n",
      " \n",
      "raising <class 'ValueError'>\n",
      "Caught an ValuesError\n",
      "This cleanup code is always called\n",
      " \n",
      "raising <class 'TypeError'>\n",
      "Caught an TypeError\n",
      "This cleanup code is always called\n",
      " \n",
      "raising None\n",
      "This code called if there is no exception\n",
      "This cleanup code is always called\n"
     ]
    }
   ],
   "source": [
    "for _ in range(5):\n",
    "    print(\" \")\n",
    "    exe_finally_else()"
   ]
  },
  {
   "cell_type": "code",
   "execution_count": null,
   "id": "e932bbfb",
   "metadata": {},
   "outputs": [],
   "source": []
  },
  {
   "cell_type": "code",
   "execution_count": null,
   "id": "acced75b",
   "metadata": {},
   "outputs": [],
   "source": []
  },
  {
   "cell_type": "code",
   "execution_count": null,
   "id": "4f327732",
   "metadata": {},
   "outputs": [],
   "source": []
  },
  {
   "cell_type": "code",
   "execution_count": null,
   "id": "cf0a48ad",
   "metadata": {},
   "outputs": [],
   "source": []
  }
 ],
 "metadata": {
  "kernelspec": {
   "display_name": "Python 3 (ipykernel)",
   "language": "python",
   "name": "python3"
  },
  "language_info": {
   "codemirror_mode": {
    "name": "ipython",
    "version": 3
   },
   "file_extension": ".py",
   "mimetype": "text/x-python",
   "name": "python",
   "nbconvert_exporter": "python",
   "pygments_lexer": "ipython3",
   "version": "3.8.8"
  }
 },
 "nbformat": 4,
 "nbformat_minor": 5
}
